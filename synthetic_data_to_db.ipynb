{
 "cells": [
  {
   "cell_type": "code",
   "execution_count": 1,
   "metadata": {},
   "outputs": [
    {
     "data": {
      "text/plain": [
       "True"
      ]
     },
     "execution_count": 1,
     "metadata": {},
     "output_type": "execute_result"
    }
   ],
   "source": [
    "from dotenv import load_dotenv\n",
    "import os\n",
    "import syncflowai\n",
    "import json\n",
    "load_dotenv()"
   ]
  },
  {
   "cell_type": "code",
   "execution_count": 59,
   "metadata": {},
   "outputs": [],
   "source": [
    "db_name = os.getenv('DATABASE')\n",
    "host_name = os.getenv('DATABASE_HOST')\n",
    "user_name = os.getenv('DATABASE_USERNAME')\n",
    "user_password = os.getenv('DATABASE_PASSWORD')"
   ]
  },
  {
   "cell_type": "code",
   "execution_count": 41,
   "metadata": {},
   "outputs": [],
   "source": [
    "mission = syncflowai.generate_mission()\n",
    "processed_mission, _ = syncflowai.extract_mission_details(mission)\n",
    "feedback = syncflowai.give_feedback(mission, processed_mission['detail'])"
   ]
  },
  {
   "cell_type": "code",
   "execution_count": 42,
   "metadata": {},
   "outputs": [
    {
     "name": "stdout",
     "output_type": "stream",
     "text": [
      " ______MISSION______ \n",
      "\n",
      " I am looking for a skilled individual or team to complete a project with a focus on functionality and performance. You can choose to implement the solution using a combination of 'Ruby', 'Linux', and 'WebRTC' if that aligns with your expertise, or you have the freedom to use any technology stack that you are comfortable with as long as the end product meets the project requirements.\n",
      "\n",
      "The end goal is to have a robust and scalable web application that offers real-time communication features. It should be secure, responsive, and user-friendly. I will provide detailed specifications regarding the features and functionality that I need, and I expect regular updates and open communication throughout the development process.\n",
      "\n",
      "Please ensure that the code is clean, well-documented, and maintainable, with an emphasis on quality and security. The application will undergo a thorough review and testing phase, so please plan accordingly for any necessary revisions.\n",
      "\n",
      "Your expertise and professional input on the best approach to take for this project are also appreciated. Let's work together to create a successful and high-quality application.\n",
      "\n",
      "______PROCESSED______ \n",
      "\n",
      " Seeking a skilled individual or team to complete a project focused on functionality and performance, with the option to use 'Ruby', 'Linux', and 'WebRTC'. The end product must be a secure, responsive, and user-friendly web application with real-time communication features. Detailed specifications will be provided, and there will be regular updates and open communication throughout the development process. The code must be clean, well-documented, and maintainable. The application will undergo review and testing and may require revisions. Professional input on the project approach is also welcomed.\n",
      "\n",
      "______FEEDBACK______ \n",
      "\n",
      " {'user_rating': 2, 'user_comments': \"The AI did not adequately detail my project requirements and missed several key points in the mission description, leading to a lack of clarity on the necessary technologies and the project's focus.\", 'modification_details': \"The mission requires the development of a web application with real-time communication features. The preferred technologies are 'Ruby', 'Linux', and 'WebRTC', but there is flexibility on the tech stack as long as performance and functionality are prioritized. The application must be scalable, secure, responsive, and offer a user-friendly interface. I will provide specific feature requirements, and I expect regular communication and updates. The source code needs to be maintainable, well-documented, and of high quality. A thorough review and testing phase will be part of the process, with an openness to necessary revisions. Expert advice and suggestions for the most suitable project approach are welcome.\"}\n",
      "\n"
     ]
    }
   ],
   "source": [
    "print(\" ______MISSION______ \\n\\n\", mission, end= \"\\n\\n\")\n",
    "print(\"______PROCESSED______ \\n\\n\", processed_mission['detail'], end = \"\\n\\n\")\n",
    "print(\"______FEEDBACK______ \\n\\n\", json.loads(feedback), end = \"\\n\\n\")"
   ]
  },
  {
   "cell_type": "code",
   "execution_count": 58,
   "metadata": {},
   "outputs": [],
   "source": [
    "feedback = syncflowai.give_feedback(mission, processed_mission['detail'])"
   ]
  },
  {
   "cell_type": "code",
   "execution_count": 56,
   "metadata": {},
   "outputs": [
    {
     "ename": "KeyError",
     "evalue": "'prompt_version'",
     "output_type": "error",
     "traceback": [
      "\u001b[0;31m---------------------------------------------------------------------------\u001b[0m",
      "\u001b[0;31mKeyError\u001b[0m                                  Traceback (most recent call last)",
      "Cell \u001b[0;32mIn[56], line 1\u001b[0m\n\u001b[0;32m----> 1\u001b[0m json\u001b[39m.\u001b[39;49mloads(feedback)[\u001b[39m'\u001b[39;49m\u001b[39mprompt_version\u001b[39;49m\u001b[39m'\u001b[39;49m]\n",
      "\u001b[0;31mKeyError\u001b[0m: 'prompt_version'"
     ]
    }
   ],
   "source": [
    "json.loads(feedback)['prompt_version']"
   ]
  },
  {
   "cell_type": "code",
   "execution_count": null,
   "metadata": {},
   "outputs": [],
   "source": []
  }
 ],
 "metadata": {
  "kernelspec": {
   "display_name": "Python 3",
   "language": "python",
   "name": "python3"
  },
  "language_info": {
   "codemirror_mode": {
    "name": "ipython",
    "version": 3
   },
   "file_extension": ".py",
   "mimetype": "text/x-python",
   "name": "python",
   "nbconvert_exporter": "python",
   "pygments_lexer": "ipython3",
   "version": "3.11.6"
  },
  "orig_nbformat": 4
 },
 "nbformat": 4,
 "nbformat_minor": 2
}
