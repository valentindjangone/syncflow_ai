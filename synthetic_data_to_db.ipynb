{
 "cells": [
  {
   "cell_type": "code",
   "execution_count": 26,
   "metadata": {},
   "outputs": [
    {
     "data": {
      "text/plain": [
       "True"
      ]
     },
     "execution_count": 26,
     "metadata": {},
     "output_type": "execute_result"
    }
   ],
   "source": [
    "from dotenv import load_dotenv\n",
    "import os\n",
    "import syncflowai\n",
    "import json\n",
    "from MySQLdb import Error\n",
    "import MySQLdb\n",
    "import numpy as np\n",
    "import uuid\n",
    "load_dotenv()"
   ]
  },
  {
   "cell_type": "code",
   "execution_count": 9,
   "metadata": {},
   "outputs": [],
   "source": [
    "db_name = os.getenv('DATABASE')\n",
    "host_name = os.getenv('DATABASE_HOST')\n",
    "user_name = os.getenv('DATABASE_USERNAME')\n",
    "user_password = os.getenv('DATABASE_PASSWORD')"
   ]
  },
  {
   "cell_type": "code",
   "execution_count": 10,
   "metadata": {},
   "outputs": [],
   "source": [
    "def create_connection(host_name, user_name, user_password, db_name):\n",
    "    connection = None\n",
    "    try:\n",
    "        connection = MySQLdb.connect(\n",
    "            host=host_name,\n",
    "            user=user_name,\n",
    "            passwd=user_password,\n",
    "            db=db_name\n",
    "        )\n",
    "        print(\"Connection to MySQL DB successful\")\n",
    "    except Error as e:\n",
    "        print(f\"The error '{e}' occurred\")\n",
    "\n",
    "    return connection"
   ]
  },
  {
   "cell_type": "code",
   "execution_count": 11,
   "metadata": {},
   "outputs": [
    {
     "name": "stdout",
     "output_type": "stream",
     "text": [
      "Connection to MySQL DB successful\n"
     ]
    }
   ],
   "source": [
    "conn = create_connection(host_name, user_name, user_password, db_name)"
   ]
  },
  {
   "cell_type": "code",
   "execution_count": 13,
   "metadata": {},
   "outputs": [],
   "source": [
    "mission = syncflowai.generate_mission()\n",
    "processed_mission, _ = syncflowai.extract_mission_details(mission)\n",
    "feedback = json.loads(syncflowai.give_feedback(mission, processed_mission['detail']))"
   ]
  },
  {
   "cell_type": "code",
   "execution_count": 42,
   "metadata": {},
   "outputs": [
    {
     "name": "stdout",
     "output_type": "stream",
     "text": [
      " ______MISSION______ \n",
      "\n",
      " I am looking for a skilled individual or team to complete a project with a focus on functionality and performance. You can choose to implement the solution using a combination of 'Ruby', 'Linux', and 'WebRTC' if that aligns with your expertise, or you have the freedom to use any technology stack that you are comfortable with as long as the end product meets the project requirements.\n",
      "\n",
      "The end goal is to have a robust and scalable web application that offers real-time communication features. It should be secure, responsive, and user-friendly. I will provide detailed specifications regarding the features and functionality that I need, and I expect regular updates and open communication throughout the development process.\n",
      "\n",
      "Please ensure that the code is clean, well-documented, and maintainable, with an emphasis on quality and security. The application will undergo a thorough review and testing phase, so please plan accordingly for any necessary revisions.\n",
      "\n",
      "Your expertise and professional input on the best approach to take for this project are also appreciated. Let's work together to create a successful and high-quality application.\n",
      "\n",
      "______PROCESSED______ \n",
      "\n",
      " Seeking a skilled individual or team to complete a project focused on functionality and performance, with the option to use 'Ruby', 'Linux', and 'WebRTC'. The end product must be a secure, responsive, and user-friendly web application with real-time communication features. Detailed specifications will be provided, and there will be regular updates and open communication throughout the development process. The code must be clean, well-documented, and maintainable. The application will undergo review and testing and may require revisions. Professional input on the project approach is also welcomed.\n",
      "\n",
      "______FEEDBACK______ \n",
      "\n",
      " {'user_rating': 2, 'user_comments': \"The AI did not adequately detail my project requirements and missed several key points in the mission description, leading to a lack of clarity on the necessary technologies and the project's focus.\", 'modification_details': \"The mission requires the development of a web application with real-time communication features. The preferred technologies are 'Ruby', 'Linux', and 'WebRTC', but there is flexibility on the tech stack as long as performance and functionality are prioritized. The application must be scalable, secure, responsive, and offer a user-friendly interface. I will provide specific feature requirements, and I expect regular communication and updates. The source code needs to be maintainable, well-documented, and of high quality. A thorough review and testing phase will be part of the process, with an openness to necessary revisions. Expert advice and suggestions for the most suitable project approach are welcome.\"}\n",
      "\n"
     ]
    }
   ],
   "source": [
    "print(\" ______MISSION______ \\n\\n\", mission, end= \"\\n\\n\")\n",
    "print(\"______PROCESSED______ \\n\\n\", processed_mission['detail'], end = \"\\n\\n\")\n",
    "print(\"______FEEDBACK______ \\n\\n\", feedback, end = \"\\n\\n\")"
   ]
  },
  {
   "cell_type": "code",
   "execution_count": 56,
   "metadata": {},
   "outputs": [
    {
     "ename": "KeyError",
     "evalue": "'prompt_version'",
     "output_type": "error",
     "traceback": [
      "\u001b[0;31m---------------------------------------------------------------------------\u001b[0m",
      "\u001b[0;31mKeyError\u001b[0m                                  Traceback (most recent call last)",
      "Cell \u001b[0;32mIn[56], line 1\u001b[0m\n\u001b[0;32m----> 1\u001b[0m json\u001b[39m.\u001b[39;49mloads(feedback)[\u001b[39m'\u001b[39;49m\u001b[39mprompt_version\u001b[39;49m\u001b[39m'\u001b[39;49m]\n",
      "\u001b[0;31mKeyError\u001b[0m: 'prompt_version'"
     ]
    }
   ],
   "source": [
    "json.loads(feedback)['prompt_version']"
   ]
  },
  {
   "cell_type": "code",
   "execution_count": 20,
   "metadata": {},
   "outputs": [],
   "source": [
    "feedback = json.loads(feedback)"
   ]
  },
  {
   "cell_type": "code",
   "execution_count": 28,
   "metadata": {},
   "outputs": [],
   "source": [
    "feedback['id'] = uuid.uuid1().hex\n",
    "feedback['prompt_version'] = np.random.choice(['v1', 'v2'])\n",
    "feedback['mission_id'] = processed_mission['id']"
   ]
  },
  {
   "cell_type": "code",
   "execution_count": 29,
   "metadata": {},
   "outputs": [
    {
     "data": {
      "text/plain": [
       "'10a567aa86ad11eeb0c8820394059a04'"
      ]
     },
     "execution_count": 29,
     "metadata": {},
     "output_type": "execute_result"
    }
   ],
   "source": [
    "uuid.uuid1().hex"
   ]
  },
  {
   "cell_type": "code",
   "execution_count": 30,
   "metadata": {},
   "outputs": [],
   "source": [
    "def store_feedback(feedback):\n",
    "    connection = get_db_connection()\n",
    "\n",
    "    try:\n",
    "        cursor = connection.cursor()\n",
    "\n",
    "        # Préparation et exécution de la requête SQL\n",
    "        insert_query = \"\"\"\n",
    "            INSERT INTO user_feedback (\n",
    "                user_rating, user_comments, prompt_version, mission_id\n",
    "            ) VALUES (\n",
    "                %s, %s, %s, %s, %s\n",
    "            )\n",
    "            \"\"\"\n",
    "        cursor.execute(insert_query, (\n",
    "            feedback.get(\"user_rating\"), \n",
    "            feedback.get(\"user_comments\"),\n",
    "            feedback.get(\"prompt_version\"),\n",
    "            feedback.get('mission_id')\n",
    "\n",
    "        ))\n",
    "\n",
    "    except MySQLdb.Error as err:\n",
    "        raise err\n",
    "\n",
    "    finally:\n",
    "        # Fermeture de la connexion à la base de données\n",
    "        if connection and connection.open:\n",
    "            cursor.close()\n",
    "            connection.close()"
   ]
  },
  {
   "cell_type": "code",
   "execution_count": null,
   "metadata": {},
   "outputs": [],
   "source": []
  }
 ],
 "metadata": {
  "kernelspec": {
   "display_name": "Python 3",
   "language": "python",
   "name": "python3"
  },
  "language_info": {
   "codemirror_mode": {
    "name": "ipython",
    "version": 3
   },
   "file_extension": ".py",
   "mimetype": "text/x-python",
   "name": "python",
   "nbconvert_exporter": "python",
   "pygments_lexer": "ipython3",
   "version": "3.11.6"
  },
  "orig_nbformat": 4
 },
 "nbformat": 4,
 "nbformat_minor": 2
}
