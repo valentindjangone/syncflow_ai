{
 "cells": [
  {
   "cell_type": "code",
   "execution_count": 4,
   "metadata": {},
   "outputs": [
    {
     "data": {
      "text/plain": [
       "True"
      ]
     },
     "execution_count": 4,
     "metadata": {},
     "output_type": "execute_result"
    }
   ],
   "source": [
    "import MySQLdb\n",
    "from MySQLdb import Error\n",
    "import os\n",
    "from dotenv import load_dotenv\n",
    "load_dotenv()"
   ]
  },
  {
   "cell_type": "code",
   "execution_count": 5,
   "metadata": {},
   "outputs": [],
   "source": [
    "db_name = os.getenv('DATABASE')\n",
    "host_name = os.getenv('DATABASE_HOST')\n",
    "user_name = os.getenv('DATABASE_USERNAME')\n",
    "user_password = os.getenv('DATABASE_PASSWORD')"
   ]
  },
  {
   "cell_type": "code",
   "execution_count": 7,
   "metadata": {},
   "outputs": [],
   "source": [
    "def create_connection(host_name, user_name, user_password, db_name):\n",
    "    connection = None\n",
    "    try:\n",
    "        connection = MySQLdb.connect(\n",
    "            host=host_name,\n",
    "            user=user_name,\n",
    "            passwd=user_password,\n",
    "            db=db_name\n",
    "        )\n",
    "        print(\"Connection to MySQL DB successful\")\n",
    "    except Error as e:\n",
    "        print(f\"The error '{e}' occurred\")\n",
    "\n",
    "    return connection\n"
   ]
  },
  {
   "cell_type": "code",
   "execution_count": 9,
   "metadata": {},
   "outputs": [],
   "source": [
    "def create_table(connection, create_table_sql):\n",
    "    cursor = connection.cursor()\n",
    "    try:\n",
    "        cursor.execute(create_table_sql)\n",
    "        print(\"Table created successfully\")\n",
    "    except Error as e:\n",
    "        print(f\"The error '{e}' occurred\")"
   ]
  },
  {
   "cell_type": "code",
   "execution_count": 11,
   "metadata": {},
   "outputs": [
    {
     "name": "stdout",
     "output_type": "stream",
     "text": [
      "Connection to MySQL DB successful\n"
     ]
    }
   ],
   "source": [
    "conn = create_connection(host_name, user_name, user_password, db_name)"
   ]
  },
  {
   "cell_type": "code",
   "execution_count": 27,
   "metadata": {},
   "outputs": [],
   "source": [
    "\n",
    "create_user_feedbacks_table = \"\"\"\n",
    "CREATE TABLE IF NOT EXISTS user_feedbacks (\n",
    "    feedback_id CHAR(36) PRIMARY KEY,\n",
    "    mission_id CHAR(36),\n",
    "    user_rating INT,\n",
    "    user_comments TEXT,\n",
    "    modification_details TEXT,\n",
    "    timestamp DATETIME,\n",
    "    prompt_version VARCHAR(255)\n",
    ");\n",
    "\"\"\""
   ]
  },
  {
   "cell_type": "code",
   "execution_count": 28,
   "metadata": {},
   "outputs": [
    {
     "name": "stdout",
     "output_type": "stream",
     "text": [
      "Table created successfully\n"
     ]
    }
   ],
   "source": [
    "create_table(conn, create_user_feedbacks_table)\n"
   ]
  },
  {
   "cell_type": "code",
   "execution_count": 34,
   "metadata": {},
   "outputs": [],
   "source": [
    "import faker"
   ]
  },
  {
   "cell_type": "code",
   "execution_count": 31,
   "metadata": {},
   "outputs": [
    {
     "name": "stdout",
     "output_type": "stream",
     "text": [
      "Collecting faker\n",
      "  Downloading Faker-20.0.3-py3-none-any.whl.metadata (15 kB)\n",
      "Requirement already satisfied: python-dateutil>=2.4 in /Users/valentin/Library/Python/3.11/lib/python/site-packages (from faker) (2.8.2)\n",
      "Requirement already satisfied: six>=1.5 in /Users/valentin/Library/Python/3.11/lib/python/site-packages (from python-dateutil>=2.4->faker) (1.16.0)\n",
      "Downloading Faker-20.0.3-py3-none-any.whl (1.7 MB)\n",
      "\u001b[2K   \u001b[90m━━━━━━━━━━━━━━━━━━━━━━━━━━━━━━━━━━━━━━━━\u001b[0m \u001b[32m1.7/1.7 MB\u001b[0m \u001b[31m17.3 MB/s\u001b[0m eta \u001b[36m0:00:00\u001b[0ma \u001b[36m0:00:01\u001b[0m\n",
      "\u001b[?25hInstalling collected packages: faker\n",
      "Successfully installed faker-20.0.3\n",
      "Note: you may need to restart the kernel to use updated packages.\n"
     ]
    }
   ],
   "source": [
    "pip install faker"
   ]
  },
  {
   "cell_type": "code",
   "execution_count": null,
   "metadata": {},
   "outputs": [],
   "source": [
    "\"\"\"Tu es un project owner qui vient de soumettre à l'écrit la mission suivante sur une plateforme de freelance boostée par IA : {mission}\"\"\""
   ]
  },
  {
   "cell_type": "code",
   "execution_count": null,
   "metadata": {},
   "outputs": [],
   "source": [
    "{\"role\" : \"system\",\n",
    "\"content\" : f\"As a project owner that just submitted a mission on the platform,\\\n",
    "you benefit from an ai assistant that helps you to extract technical details from that mission so you can frame your needs rapidly and accurately.\\\n",
    "This time, the AI was not performant enough and you decide to fill a survey to give a feedback. Here is your original posted mission : {mission} \",\n",
    "\"role\" : \"user\",\n",
    "\"content\" : processed_mission}"
   ]
  },
  {
   "cell_type": "code",
   "execution_count": 36,
   "metadata": {},
   "outputs": [],
   "source": [
    "function = {\"name\" : \"feedback\",\n",
    "\"description\" : \"A function that takes in a mission processed by the AI and returns a list of feedback given by the user\",\n",
    "\"parameters\" : {\n",
    "    \"type\" : \"object\",\n",
    "    \"properties\" : {\n",
    "        \"user_rating\" : {\n",
    "            \"type\" : \"integer\",\n",
    "            \"description\" : \"The rating given by the user\",\n",
    "            \"minimum\" : 1,\n",
    "            \"maximum\" : 5\n",
    "        },\n",
    "        \"user_comments\" : {\n",
    "            \"type\" : \"string\",\n",
    "            \"description\" : \"The comments given by the user\",\n",
    "            \"minLength\" : 30,\n",
    "            \"maxLength\" : 500\n",
    "        },\n",
    "        \"modification_details\" : {\n",
    "            \"type\" : \"string\",\n",
    "            \"description\" : \"The mission details given by AI modified/rectified by user, can be fully modified or partially\",\n",
    "        },\n",
    "        \"prompt_version\" : {\n",
    "            \"type\" : \"string\",\n",
    "    }\n",
    "\n",
    "    }\n",
    "}"
   ]
  },
  {
   "cell_type": "code",
   "execution_count": null,
   "metadata": {},
   "outputs": [],
   "source": []
  }
 ],
 "metadata": {
  "kernelspec": {
   "display_name": "Python 3",
   "language": "python",
   "name": "python3"
  },
  "language_info": {
   "codemirror_mode": {
    "name": "ipython",
    "version": 3
   },
   "file_extension": ".py",
   "mimetype": "text/x-python",
   "name": "python",
   "nbconvert_exporter": "python",
   "pygments_lexer": "ipython3",
   "version": "3.11.6"
  },
  "orig_nbformat": 4
 },
 "nbformat": 4,
 "nbformat_minor": 2
}
